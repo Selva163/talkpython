{
 "cells": [
  {
   "cell_type": "markdown",
   "metadata": {},
   "source": [
    "# Lets talk Python !!!!"
   ]
  },
  {
   "cell_type": "markdown",
   "metadata": {},
   "source": [
    "**Why Python?**\n",
    "    \n",
    "    1. Python is a powerful, flexible, open source language that is easy to learn, easy to use, and has powerful libraries for data analysis, desktop development and web developments.\n",
    "    2. \n",
    "    3.\n",
    "    4.\n"
   ]
  },
  {
   "cell_type": "markdown",
   "metadata": {},
   "source": [
    "**Topics to be covered:**\n",
    "    \n",
    "    1. Data types\n",
    "    2. List\n",
    "    3. Dictionaries\n",
    "    4. String\n",
    "    5. Functions\n",
    "    6. Modules and Packages\n",
    "    7. Class\n",
    "\n",
    "**Bonus topics:**\n",
    "    1. Handling JSON data from web\n",
    "    2. Extracting information from website\n",
    "    3. Some tools like selenium, scrapy"
   ]
  },
  {
   "cell_type": "code",
   "execution_count": null,
   "metadata": {
    "collapsed": true
   },
   "outputs": [],
   "source": []
  }
 ],
 "metadata": {
  "kernelspec": {
   "display_name": "Python 2",
   "language": "python",
   "name": "python2"
  },
  "language_info": {
   "codemirror_mode": {
    "name": "ipython",
    "version": 2
   },
   "file_extension": ".py",
   "mimetype": "text/x-python",
   "name": "python",
   "nbconvert_exporter": "python",
   "pygments_lexer": "ipython2",
   "version": "2.7.12"
  }
 },
 "nbformat": 4,
 "nbformat_minor": 0
}
